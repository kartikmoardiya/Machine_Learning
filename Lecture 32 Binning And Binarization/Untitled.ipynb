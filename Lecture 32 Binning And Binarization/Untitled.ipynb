{
 "cells": [
  {
   "cell_type": "code",
   "execution_count": 1,
   "id": "d1953aeb-1593-4f96-9498-4dd4c50b742f",
   "metadata": {},
   "outputs": [],
   "source": [
    "import pandas as pd\n",
    "import numpy as np"
   ]
  },
  {
   "cell_type": "code",
   "execution_count": 2,
   "id": "389629bb-890a-47d6-aba1-32a06d318409",
   "metadata": {},
   "outputs": [],
   "source": [
    "import matplotlib.pyplot as plt\n",
    "\n",
    "from sklearn.model_selection import train_test_split\n",
    "\n",
    "from sklearn.tree import DecisionTreeClassifier\n",
    "\n",
    "from sklearn.metrics import accuracy_score\n",
    "from sklearn.model_selection import cross_val_score\n",
    "\n",
    "from sklearn.preprocessing import KBinsDiscretizer\n",
    "from sklearn.compose import ColumnTransformer"
   ]
  },
  {
   "cell_type": "code",
   "execution_count": 3,
   "id": "aa8a7c5c-304a-4a71-ab6e-15538a38bb09",
   "metadata": {},
   "outputs": [],
   "source": [
    "df = pd.read_csv('train.csv',usecols=['Age','Fare','Survived'])"
   ]
  },
  {
   "cell_type": "code",
   "execution_count": 4,
   "id": "c0601ca5-8406-4fb1-8a8f-8d699e63dbec",
   "metadata": {},
   "outputs": [],
   "source": [
    "\n",
    "df.dropna(inplace=True)"
   ]
  },
  {
   "cell_type": "code",
   "execution_count": 5,
   "id": "44eeda12-44ad-47d9-834e-871db4f507fe",
   "metadata": {},
   "outputs": [
    {
     "data": {
      "text/plain": [
       "(714, 3)"
      ]
     },
     "execution_count": 5,
     "metadata": {},
     "output_type": "execute_result"
    }
   ],
   "source": [
    "\n",
    "df.shape"
   ]
  },
  {
   "cell_type": "code",
   "execution_count": 6,
   "id": "6d145abc-e79e-4197-9f60-b0ca6fb5b1fd",
   "metadata": {},
   "outputs": [
    {
     "data": {
      "text/html": [
       "<div>\n",
       "<style scoped>\n",
       "    .dataframe tbody tr th:only-of-type {\n",
       "        vertical-align: middle;\n",
       "    }\n",
       "\n",
       "    .dataframe tbody tr th {\n",
       "        vertical-align: top;\n",
       "    }\n",
       "\n",
       "    .dataframe thead th {\n",
       "        text-align: right;\n",
       "    }\n",
       "</style>\n",
       "<table border=\"1\" class=\"dataframe\">\n",
       "  <thead>\n",
       "    <tr style=\"text-align: right;\">\n",
       "      <th></th>\n",
       "      <th>Survived</th>\n",
       "      <th>Age</th>\n",
       "      <th>Fare</th>\n",
       "    </tr>\n",
       "  </thead>\n",
       "  <tbody>\n",
       "    <tr>\n",
       "      <th>0</th>\n",
       "      <td>0</td>\n",
       "      <td>22.0</td>\n",
       "      <td>7.2500</td>\n",
       "    </tr>\n",
       "    <tr>\n",
       "      <th>1</th>\n",
       "      <td>1</td>\n",
       "      <td>38.0</td>\n",
       "      <td>71.2833</td>\n",
       "    </tr>\n",
       "    <tr>\n",
       "      <th>2</th>\n",
       "      <td>1</td>\n",
       "      <td>26.0</td>\n",
       "      <td>7.9250</td>\n",
       "    </tr>\n",
       "    <tr>\n",
       "      <th>3</th>\n",
       "      <td>1</td>\n",
       "      <td>35.0</td>\n",
       "      <td>53.1000</td>\n",
       "    </tr>\n",
       "    <tr>\n",
       "      <th>4</th>\n",
       "      <td>0</td>\n",
       "      <td>35.0</td>\n",
       "      <td>8.0500</td>\n",
       "    </tr>\n",
       "  </tbody>\n",
       "</table>\n",
       "</div>"
      ],
      "text/plain": [
       "   Survived   Age     Fare\n",
       "0         0  22.0   7.2500\n",
       "1         1  38.0  71.2833\n",
       "2         1  26.0   7.9250\n",
       "3         1  35.0  53.1000\n",
       "4         0  35.0   8.0500"
      ]
     },
     "execution_count": 6,
     "metadata": {},
     "output_type": "execute_result"
    }
   ],
   "source": [
    "\n",
    "df.head()"
   ]
  },
  {
   "cell_type": "code",
   "execution_count": 7,
   "id": "8cf7e6fc-15c8-4e89-8465-51e806829ad8",
   "metadata": {},
   "outputs": [],
   "source": [
    "X = df.iloc[:,1:]\n",
    "y = df.iloc[:,0]"
   ]
  },
  {
   "cell_type": "code",
   "execution_count": 8,
   "id": "d7a9d5cf-2b0a-44a4-9e47-ce37f36affbb",
   "metadata": {},
   "outputs": [],
   "source": [
    "X_train,X_test,y_train,y_test = train_test_split(X,y,test_size=0.2,random_state=42)"
   ]
  },
  {
   "cell_type": "code",
   "execution_count": 9,
   "id": "c2ca45ed-88ba-4fbd-ab3c-3c6668357be5",
   "metadata": {},
   "outputs": [
    {
     "data": {
      "text/html": [
       "<div>\n",
       "<style scoped>\n",
       "    .dataframe tbody tr th:only-of-type {\n",
       "        vertical-align: middle;\n",
       "    }\n",
       "\n",
       "    .dataframe tbody tr th {\n",
       "        vertical-align: top;\n",
       "    }\n",
       "\n",
       "    .dataframe thead th {\n",
       "        text-align: right;\n",
       "    }\n",
       "</style>\n",
       "<table border=\"1\" class=\"dataframe\">\n",
       "  <thead>\n",
       "    <tr style=\"text-align: right;\">\n",
       "      <th></th>\n",
       "      <th>Age</th>\n",
       "      <th>Fare</th>\n",
       "    </tr>\n",
       "  </thead>\n",
       "  <tbody>\n",
       "    <tr>\n",
       "      <th>328</th>\n",
       "      <td>31.0</td>\n",
       "      <td>20.5250</td>\n",
       "    </tr>\n",
       "    <tr>\n",
       "      <th>73</th>\n",
       "      <td>26.0</td>\n",
       "      <td>14.4542</td>\n",
       "    </tr>\n",
       "  </tbody>\n",
       "</table>\n",
       "</div>"
      ],
      "text/plain": [
       "      Age     Fare\n",
       "328  31.0  20.5250\n",
       "73   26.0  14.4542"
      ]
     },
     "execution_count": 9,
     "metadata": {},
     "output_type": "execute_result"
    }
   ],
   "source": [
    "\n",
    "X_train.head(2)"
   ]
  },
  {
   "cell_type": "code",
   "execution_count": 10,
   "id": "a8ac8c37-5e38-4d11-a5f2-e99ff57256d2",
   "metadata": {},
   "outputs": [],
   "source": [
    "clf = DecisionTreeClassifier()"
   ]
  },
  {
   "cell_type": "code",
   "execution_count": 11,
   "id": "fda037ff-9648-48cb-a3c6-7570e3700f32",
   "metadata": {},
   "outputs": [],
   "source": [
    "clf.fit(X_train,y_train)\n",
    "y_pred = clf.predict(X_test)"
   ]
  },
  {
   "cell_type": "code",
   "execution_count": 12,
   "id": "25877209-8e5f-4520-b5e7-7c5c74dad11c",
   "metadata": {},
   "outputs": [
    {
     "data": {
      "text/plain": [
       "0.6293706293706294"
      ]
     },
     "execution_count": 12,
     "metadata": {},
     "output_type": "execute_result"
    }
   ],
   "source": [
    "\n",
    "accuracy_score(y_test,y_pred)"
   ]
  },
  {
   "cell_type": "code",
   "execution_count": 13,
   "id": "48d89f1e-07dc-4e55-ac10-ee37ac15dfb8",
   "metadata": {},
   "outputs": [
    {
     "data": {
      "text/plain": [
       "0.6261150234741784"
      ]
     },
     "execution_count": 13,
     "metadata": {},
     "output_type": "execute_result"
    }
   ],
   "source": [
    "np.mean(cross_val_score(DecisionTreeClassifier(),X,y,cv=10,scoring='accuracy'))\n"
   ]
  },
  {
   "cell_type": "code",
   "execution_count": 14,
   "id": "4ff61c29-8d60-4bbe-9b4b-e6dee4fe1d2e",
   "metadata": {},
   "outputs": [],
   "source": [
    "kbin_age = KBinsDiscretizer(n_bins=15,encode='ordinal',strategy='quantile')\n",
    "kbin_fare = KBinsDiscretizer(n_bins=15,encode='ordinal',strategy='quantile')"
   ]
  },
  {
   "cell_type": "code",
   "execution_count": 15,
   "id": "3c5f33f2-8754-41ac-aa82-4903d5dc1c68",
   "metadata": {},
   "outputs": [],
   "source": [
    "trf = ColumnTransformer([\n",
    "    ('first',kbin_age,[0]),\n",
    "    ('second',kbin_fare,[1])\n",
    "])"
   ]
  },
  {
   "cell_type": "code",
   "execution_count": 16,
   "id": "5e4c1601-1e27-42b5-80aa-87b30784d780",
   "metadata": {},
   "outputs": [],
   "source": [
    "\n",
    "X_train_trf = trf.fit_transform(X_train)\n",
    "X_test_trf = trf.transform(X_test)"
   ]
  },
  {
   "cell_type": "code",
   "execution_count": 17,
   "id": "92187cdf-9c45-44ab-881d-140992682a34",
   "metadata": {},
   "outputs": [
    {
     "data": {
      "text/plain": [
       "array([array([ 0.42,  6.  , 16.  , 19.  , 21.  , 23.  , 25.  , 28.  , 30.  ,\n",
       "              32.  , 35.  , 38.  , 42.  , 47.  , 54.  , 80.  ])             ],\n",
       "      dtype=object)"
      ]
     },
     "execution_count": 17,
     "metadata": {},
     "output_type": "execute_result"
    }
   ],
   "source": [
    "trf.named_transformers_['first'].bin_edges_"
   ]
  },
  {
   "cell_type": "code",
   "execution_count": 18,
   "id": "5f18e2a4-7a00-4301-a5b1-7c2bcccfc096",
   "metadata": {},
   "outputs": [
    {
     "data": {
      "text/plain": [
       "array([array([ 0.42,  6.  , 16.  , 19.  , 21.  , 23.  , 25.  , 28.  , 30.  ,\n",
       "              32.  , 35.  , 38.  , 42.  , 47.  , 54.  , 80.  ])             ],\n",
       "      dtype=object)"
      ]
     },
     "execution_count": 18,
     "metadata": {},
     "output_type": "execute_result"
    }
   ],
   "source": [
    "trf.named_transformers_['first'].bin_edges_"
   ]
  },
  {
   "cell_type": "code",
   "execution_count": 19,
   "id": "0c1404cd-e071-46ab-99af-ea0748f513d1",
   "metadata": {},
   "outputs": [],
   "source": [
    "\n",
    "output = pd.DataFrame({\n",
    "    'age':X_train['Age'],\n",
    "    'age_trf':X_train_trf[:,0],\n",
    "    'fare':X_train['Fare'],\n",
    "    'fare_trf':X_train_trf[:,1]\n",
    "})"
   ]
  },
  {
   "cell_type": "code",
   "execution_count": 20,
   "id": "718c0dea-89c2-4adc-9666-d7fd425c4f1b",
   "metadata": {},
   "outputs": [],
   "source": [
    "output['age_labels'] = pd.cut(x=X_train['Age'],\n",
    "                                    bins=trf.named_transformers_['first'].bin_edges_[0].tolist())\n",
    "output['fare_labels'] = pd.cut(x=X_train['Fare'],\n",
    "                                    bins=trf.named_transformers_['second'].bin_edges_[0].tolist())"
   ]
  },
  {
   "cell_type": "code",
   "execution_count": null,
   "id": "f59e49a1-9228-418b-a87b-87d3ac5b2eb3",
   "metadata": {},
   "outputs": [],
   "source": []
  }
 ],
 "metadata": {
  "kernelspec": {
   "display_name": "Python 3 (ipykernel)",
   "language": "python",
   "name": "python3"
  },
  "language_info": {
   "codemirror_mode": {
    "name": "ipython",
    "version": 3
   },
   "file_extension": ".py",
   "mimetype": "text/x-python",
   "name": "python",
   "nbconvert_exporter": "python",
   "pygments_lexer": "ipython3",
   "version": "3.11.9"
  }
 },
 "nbformat": 4,
 "nbformat_minor": 5
}
